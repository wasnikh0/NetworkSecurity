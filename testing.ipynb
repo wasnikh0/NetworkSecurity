{
 "cells": [
  {
   "cell_type": "code",
   "execution_count": 1,
   "id": "c19a9e91",
   "metadata": {},
   "outputs": [
    {
     "name": "stdout",
     "output_type": "stream",
     "text": [
      "RandomForestClassifier(n_estimators=256, verbose=1)\n",
      "30\n"
     ]
    }
   ],
   "source": [
    "import pickle\n",
    "model = pickle.load(open(\"final_model/model.pkl\", \"rb\"))\n",
    "print(model)\n",
    "print(model.n_features_in_)\n"
   ]
  },
  {
   "cell_type": "code",
   "execution_count": 2,
   "id": "7b079c2f",
   "metadata": {},
   "outputs": [
    {
     "name": "stdout",
     "output_type": "stream",
     "text": [
      "[0.]\n",
      "[[0.99609375 0.00390625]]\n"
     ]
    },
    {
     "name": "stderr",
     "output_type": "stream",
     "text": [
      "[Parallel(n_jobs=1)]: Done  49 tasks      | elapsed:    0.0s\n",
      "[Parallel(n_jobs=1)]: Done 199 tasks      | elapsed:    0.0s\n",
      "[Parallel(n_jobs=1)]: Done 256 out of 256 | elapsed:    0.0s finished\n",
      "[Parallel(n_jobs=1)]: Done  49 tasks      | elapsed:    0.0s\n",
      "[Parallel(n_jobs=1)]: Done 199 tasks      | elapsed:    0.0s\n",
      "[Parallel(n_jobs=1)]: Done 256 out of 256 | elapsed:    0.0s finished\n"
     ]
    }
   ],
   "source": [
    "X_test = [[-1]*30]  # simulate a phishing input\n",
    "print(model.predict(X_test))\n",
    "print(model.predict_proba(X_test))\n"
   ]
  },
  {
   "cell_type": "code",
   "execution_count": 6,
   "id": "d439a03b",
   "metadata": {},
   "outputs": [
    {
     "data": {
      "text/plain": [
       "Result\n",
       " 1    6157\n",
       "-1    4898\n",
       "Name: count, dtype: int64"
      ]
     },
     "execution_count": 6,
     "metadata": {},
     "output_type": "execute_result"
    }
   ],
   "source": [
    "import pandas as pd\n",
    "\n",
    "df = pd.read_csv(\"Network_Data/phisingData.csv\")\n",
    "df['Result'].value_counts()\n"
   ]
  },
  {
   "cell_type": "code",
   "execution_count": 2,
   "id": "5b2c30c0",
   "metadata": {},
   "outputs": [
    {
     "name": "stderr",
     "output_type": "stream",
     "text": [
      "[Parallel(n_jobs=1)]: Done  49 tasks      | elapsed:    0.0s\n",
      "[Parallel(n_jobs=1)]: Done 199 tasks      | elapsed:    0.5s\n",
      "[Parallel(n_jobs=1)]: Done 256 out of 256 | elapsed:    0.6s finished\n",
      "[Parallel(n_jobs=1)]: Done  49 tasks      | elapsed:    0.0s\n",
      "[Parallel(n_jobs=1)]: Done 199 tasks      | elapsed:    0.0s\n"
     ]
    },
    {
     "name": "stdout",
     "output_type": "stream",
     "text": [
      "📊 Classification Report:\n",
      "\n",
      "              precision    recall  f1-score   support\n",
      "\n",
      "          -1       0.98      0.97      0.97       980\n",
      "           1       0.97      0.98      0.98      1231\n",
      "\n",
      "    accuracy                           0.98      2211\n",
      "   macro avg       0.98      0.97      0.97      2211\n",
      "weighted avg       0.98      0.98      0.98      2211\n",
      "\n",
      "\n",
      "🧩 Confusion Matrix:\n",
      "[[ 946   34]\n",
      " [  21 1210]]\n"
     ]
    },
    {
     "name": "stderr",
     "output_type": "stream",
     "text": [
      "[Parallel(n_jobs=1)]: Done 256 out of 256 | elapsed:    0.0s finished\n"
     ]
    }
   ],
   "source": [
    "import pandas as pd\n",
    "from sklearn.ensemble import RandomForestClassifier\n",
    "from sklearn.model_selection import train_test_split\n",
    "from sklearn.metrics import classification_report, confusion_matrix\n",
    "import pickle\n",
    "import os\n",
    "\n",
    "# Load the dataset\n",
    "df = pd.read_csv(\"Network_Data/phisingData.csv\")  # adjust path if needed\n",
    "\n",
    "# Split into features and label\n",
    "X = df.drop(columns=[\"Result\"])\n",
    "y = df[\"Result\"]\n",
    "\n",
    "# Train/Test split\n",
    "X_train, X_test, y_train, y_test = train_test_split(X, y, stratify=y, test_size=0.2, random_state=42)\n",
    "\n",
    "# Train Random Forest with class_weight to handle imbalance\n",
    "model = RandomForestClassifier(n_estimators=256, class_weight=\"balanced\", verbose=1, random_state=42)\n",
    "model.fit(X_train, y_train)\n",
    "\n",
    "# Evaluate\n",
    "y_pred = model.predict(X_test)\n",
    "print(\"📊 Classification Report:\\n\")\n",
    "print(classification_report(y_test, y_pred))\n",
    "print(\"\\n🧩 Confusion Matrix:\")\n",
    "print(confusion_matrix(y_test, y_pred))"
   ]
  },
  {
   "cell_type": "code",
   "execution_count": 3,
   "id": "3bc23e07",
   "metadata": {},
   "outputs": [
    {
     "name": "stdout",
     "output_type": "stream",
     "text": [
      "Prediction: [-1]\n",
      "Probabilities: [[0.93359375 0.06640625]]\n"
     ]
    },
    {
     "name": "stderr",
     "output_type": "stream",
     "text": [
      "b:\\Projects\\MLOps\\NetworkSecurity\\venv\\lib\\site-packages\\sklearn\\utils\\validation.py:2749: UserWarning: X does not have valid feature names, but RandomForestClassifier was fitted with feature names\n",
      "  warnings.warn(\n",
      "[Parallel(n_jobs=1)]: Done  49 tasks      | elapsed:    0.0s\n",
      "[Parallel(n_jobs=1)]: Done 199 tasks      | elapsed:    0.0s\n",
      "[Parallel(n_jobs=1)]: Done 256 out of 256 | elapsed:    0.0s finished\n",
      "b:\\Projects\\MLOps\\NetworkSecurity\\venv\\lib\\site-packages\\sklearn\\utils\\validation.py:2749: UserWarning: X does not have valid feature names, but RandomForestClassifier was fitted with feature names\n",
      "  warnings.warn(\n",
      "[Parallel(n_jobs=1)]: Done  49 tasks      | elapsed:    0.0s\n",
      "[Parallel(n_jobs=1)]: Done 199 tasks      | elapsed:    0.0s\n",
      "[Parallel(n_jobs=1)]: Done 256 out of 256 | elapsed:    0.0s finished\n"
     ]
    }
   ],
   "source": [
    "X_test = [[-1]*15 + [1]*15]  # first 15 features phishing-like, next 15 legit-like\n",
    "print(\"Prediction:\", model.predict(X_test))\n",
    "print(\"Probabilities:\", model.predict_proba(X_test))\n"
   ]
  },
  {
   "cell_type": "code",
   "execution_count": 4,
   "id": "a5361d29",
   "metadata": {},
   "outputs": [
    {
     "name": "stdout",
     "output_type": "stream",
     "text": [
      "Flipped Prediction: [1]\n",
      "Flipped Probabilities: [[0.09765625 0.90234375]]\n"
     ]
    },
    {
     "name": "stderr",
     "output_type": "stream",
     "text": [
      "b:\\Projects\\MLOps\\NetworkSecurity\\venv\\lib\\site-packages\\sklearn\\utils\\validation.py:2749: UserWarning: X does not have valid feature names, but RandomForestClassifier was fitted with feature names\n",
      "  warnings.warn(\n",
      "[Parallel(n_jobs=1)]: Done  49 tasks      | elapsed:    0.0s\n",
      "[Parallel(n_jobs=1)]: Done 199 tasks      | elapsed:    0.0s\n",
      "[Parallel(n_jobs=1)]: Done 256 out of 256 | elapsed:    0.0s finished\n",
      "b:\\Projects\\MLOps\\NetworkSecurity\\venv\\lib\\site-packages\\sklearn\\utils\\validation.py:2749: UserWarning: X does not have valid feature names, but RandomForestClassifier was fitted with feature names\n",
      "  warnings.warn(\n",
      "[Parallel(n_jobs=1)]: Done  49 tasks      | elapsed:    0.0s\n",
      "[Parallel(n_jobs=1)]: Done 199 tasks      | elapsed:    0.0s\n",
      "[Parallel(n_jobs=1)]: Done 256 out of 256 | elapsed:    0.0s finished\n"
     ]
    }
   ],
   "source": [
    "X_test_flip = [[1]*15 + [-1]*15]\n",
    "print(\"Flipped Prediction:\", model.predict(X_test_flip))\n",
    "print(\"Flipped Probabilities:\", model.predict_proba(X_test_flip))"
   ]
  },
  {
   "cell_type": "code",
   "execution_count": 9,
   "id": "75c66b96",
   "metadata": {},
   "outputs": [
    {
     "name": "stdout",
     "output_type": "stream",
     "text": [
      "✅ Model trained and saved at: final_model\\model_balanced.pkl\n"
     ]
    }
   ],
   "source": [
    "# Save the model\n",
    "output_path = os.path.join(\"final_model\", \"model_balanced.pkl\")\n",
    "with open(output_path, \"wb\") as f:\n",
    "    pickle.dump(model, f)\n",
    "\n",
    "print(\"✅ Model trained and saved at:\", output_path)"
   ]
  }
 ],
 "metadata": {
  "kernelspec": {
   "display_name": "Python 3",
   "language": "python",
   "name": "python3"
  },
  "language_info": {
   "codemirror_mode": {
    "name": "ipython",
    "version": 3
   },
   "file_extension": ".py",
   "mimetype": "text/x-python",
   "name": "python",
   "nbconvert_exporter": "python",
   "pygments_lexer": "ipython3",
   "version": "3.10.0"
  }
 },
 "nbformat": 4,
 "nbformat_minor": 5
}
